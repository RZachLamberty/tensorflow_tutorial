{
 "cells": [
  {
   "cell_type": "markdown",
   "metadata": {},
   "source": [
    "# faq\n",
    "\n",
    "follow [here](https://www.tensorflow.org/programmers_guide/faq)"
   ]
  },
  {
   "cell_type": "code",
   "execution_count": 1,
   "metadata": {},
   "outputs": [
    {
     "name": "stderr",
     "output_type": "stream",
     "text": [
      "/usr/local/lib/python3.5/dist-packages/h5py/__init__.py:36: FutureWarning: Conversion of the second argument of issubdtype from `float` to `np.floating` is deprecated. In future, it will be treated as `np.float64 == np.dtype(float).type`.\n",
      "  from ._conv import register_converters as _register_converters\n"
     ]
    }
   ],
   "source": [
    "import tensorflow as tf\n",
    "\n",
    "import utils"
   ]
  },
  {
   "cell_type": "markdown",
   "metadata": {},
   "source": [
    "## features and compatibility\n",
    "\n",
    "+ `tensorflow` supports distributed computing\n",
    "+ `tensorflow` supports `python` 2 and `python` 3.3+"
   ]
  },
  {
   "cell_type": "markdown",
   "metadata": {},
   "source": [
    "## building a tensorflow graph\n",
    "\n",
    "+ `tensor`s are symbolic inputs to computations, not stateful objects. you have to execute an operation within a `tf.Session` to get anything\n",
    "+ devices are named `/[device:]{GPU,gpu,CPU,cpu}:i` (`[device:]` is optional)\n",
    "    + force use of a device with the `tf.device` context manager around a given operation creation"
   ]
  },
  {
   "cell_type": "markdown",
   "metadata": {},
   "source": [
    "## running a tensorflow computation\n",
    "\n",
    "+ feeding and placeholders allow for run-time parameterization of graph objects\n",
    "+ difference between `tf.Session.run` and `tf.Tensor.eval`: none. this is shorthand\n",
    "+ resources within a session (e.g. `tf.Variable`s) are freed when the session exits\n",
    "+ parallelization is done for you (requires some configuration which is not discussed directly here)\n",
    "+ languages:\n",
    "    + supported: `python` and `C`\n",
    "    + experiemental support: `c++`, `java`, `go`\n",
    "    + bindings: `c#`, `julia`, `ruby`, `scala`\n",
    "+ multi-`gpu` and -`cpu` support\n",
    "+ `tf.ReaderBase` and `tf.QueueBase` allow for blocking input for more sophisticated etl processes"
   ]
  },
  {
   "cell_type": "markdown",
   "metadata": {},
   "source": [
    "## variables\n",
    "\n",
    "+ variable lifetime is from `tf.Variable.initializer` step to the close of the initializing `tf.Session` object\n",
    "+ they allow concurrent reads unless expressly prohibitied by passing `use_locking=True`"
   ]
  },
  {
   "cell_type": "markdown",
   "metadata": {},
   "source": [
    "## tensor shapes\n",
    "\n",
    "+ *static* shape available via `tf.Tensor.get_shape`\n",
    "+ *dynamic* shape available via `tf.shape(t)`\n",
    "+ difference between `tf.reshape(t)` and `tf.Tensor.set_shape()`:\n",
    "    + `tf.Tensor.set_shape(shape)`: update the static shape\n",
    "    + `tf.reshape(t, shape)`: creates new tensor with new dynamic shape\n",
    "+ variable batch size graphs can be created by:\n",
    "    + extracting it to a variable: `batch_size = tf.shape(input)[0]`\n",
    "    + using `tf.reduce_mean` instead of summing and dividing by the `batch_size`"
   ]
  },
  {
   "cell_type": "markdown",
   "metadata": {},
   "source": [
    "## tensorboard\n",
    "\n",
    "+ `tensorboard` is a visualization tool\n",
    "    + to use it, add summary ops to the graph and write them to a log directory. then run `tensorboard --logdir=...`"
   ]
  },
  {
   "cell_type": "markdown",
   "metadata": {},
   "source": [
    "## extending tensorflow\n",
    "\n",
    "this is just about how to read data from non-`tfrecord` formats. use regular shit and then maybe `decode_{raw,csv,png}` if applicable, but otherwise use the dataset's `apply_map` stuff"
   ]
  },
  {
   "cell_type": "markdown",
   "metadata": {},
   "source": [
    "## miscellaneous\n",
    "\n",
    "coding convention follows `pep8` except for spacing, where they use the `google` `python` style guide convention of 2 space indents because fuck everyone"
   ]
  },
  {
   "cell_type": "markdown",
   "metadata": {},
   "source": [
    "# summary\n",
    "\n",
    "it's an faq, it is a summary"
   ]
  },
  {
   "cell_type": "code",
   "execution_count": null,
   "metadata": {},
   "outputs": [],
   "source": []
  }
 ],
 "metadata": {
  "kernelspec": {
   "display_name": "Python 3",
   "language": "python",
   "name": "python3"
  },
  "language_info": {
   "codemirror_mode": {
    "name": "ipython",
    "version": 3
   },
   "file_extension": ".py",
   "mimetype": "text/x-python",
   "name": "python",
   "nbconvert_exporter": "python",
   "pygments_lexer": "ipython3",
   "version": "3.5.2"
  }
 },
 "nbformat": 4,
 "nbformat_minor": 2
}
