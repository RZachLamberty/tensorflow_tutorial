{
 "cells": [
  {
   "cell_type": "markdown",
   "metadata": {},
   "source": [
    "# `tensorboard`: visualizing learning\n",
    "\n",
    "following along [here](https://www.tensorflow.org/programmers_guide/summaries_and_tensorboard)"
   ]
  },
  {
   "cell_type": "code",
   "execution_count": 1,
   "metadata": {},
   "outputs": [
    {
     "name": "stderr",
     "output_type": "stream",
     "text": [
      "/usr/local/lib/python3.5/dist-packages/h5py/__init__.py:36: FutureWarning: Conversion of the second argument of issubdtype from `float` to `np.floating` is deprecated. In future, it will be treated as `np.float64 == np.dtype(float).type`.\n",
      "  from ._conv import register_converters as _register_converters\n"
     ]
    }
   ],
   "source": [
    "import tensorflow as tf\n",
    "import utils"
   ]
  },
  {
   "cell_type": "markdown",
   "metadata": {},
   "source": [
    "## setup\n",
    "\n",
    "just a link to install instructions"
   ]
  },
  {
   "cell_type": "markdown",
   "metadata": {},
   "source": [
    "## serializing the data\n",
    "\n",
    "tb reads *events files*, serialized summary data. general lifecycle:\n",
    "\n",
    "1. define a graph with summary operations\n",
    "    1. pick nodes from an existing graph and annotate those nodes with [*summary operations*](https://www.tensorflow.org/api_guides/python/summary)\n",
    "    1. mnist cnn example\n",
    "        1. record learning rate and loss over time by attaching `tf.summary.scalar` operations to the resp. operation nodes. tag them with real-world language\n",
    "        1. record the distribution of layer activations, gradients, and weights by attaching a `tf.summary.histogram` operation to the resp. gradient and ativation outputs or weight variables\n",
    "    1. all of the basic summary operations are downstream of all other tensors and ops, so you would have to explicitly `run` them all to get any of them.\n",
    "        1. to avoid this, use `tf.summary.merge_all`\n",
    "            1. this creates an operation which combines all other summary operations\n",
    "            1. this will also output a serialized `Summary` protobuf\n",
    "        1. write the `Summary` to disk with a `tf.summary.FileWriter` object\n",
    "1. run the network"
   ]
  },
  {
   "cell_type": "markdown",
   "metadata": {},
   "source": [
    "example program [here](https://github.com/tensorflow/tensorflow/blob/r1.8/tensorflow/examples/tutorials/mnist/mnist_with_summaries.py). download it into your container and run it with the following arguments (this is necessary to have these available for tensorboard running on the gpu machine itself, where the `docker` container `/tmp` doesn't exist)\n",
    "\n",
    "```sh\n",
    "curl -o mnist_with_summaries.py https://raw.githubusercontent.com/tensorflow/tensorflow/r1.8/tensorflow/examples/tutorials/mnist/mnist_with_summaries.py\n",
    "chmod u+x mnist_with_summaries.py\n",
    "\n",
    "mkdir -p ./mnist/logdir\n",
    "\n",
    "\n",
    "```"
   ]
  },
  {
   "cell_type": "markdown",
   "metadata": {},
   "source": [
    "## launching tensorboard"
   ]
  },
  {
   "cell_type": "markdown",
   "metadata": {},
   "source": [
    "# summary"
   ]
  }
 ],
 "metadata": {
  "kernelspec": {
   "display_name": "Python 3",
   "language": "python",
   "name": "python3"
  },
  "language_info": {
   "codemirror_mode": {
    "name": "ipython",
    "version": 3
   },
   "file_extension": ".py",
   "mimetype": "text/x-python",
   "name": "python",
   "nbconvert_exporter": "python",
   "pygments_lexer": "ipython3",
   "version": "3.5.2"
  }
 },
 "nbformat": 4,
 "nbformat_minor": 2
}
