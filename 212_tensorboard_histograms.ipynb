{
 "cells": [
  {
   "cell_type": "markdown",
   "metadata": {},
   "source": [
    "# histograms\n",
    "\n",
    "following along [here](https://www.tensorflow.org/programmers_guide/tensorboard_histograms)"
   ]
  },
  {
   "cell_type": "code",
   "execution_count": 1,
   "metadata": {},
   "outputs": [
    {
     "name": "stderr",
     "output_type": "stream",
     "text": [
      "/usr/local/lib/python3.5/dist-packages/h5py/__init__.py:36: FutureWarning: Conversion of the second argument of issubdtype from `float` to `np.floating` is deprecated. In future, it will be treated as `np.float64 == np.dtype(float).type`.\n",
      "  from ._conv import register_converters as _register_converters\n"
     ]
    }
   ],
   "source": [
    "import tensorflow as tf\n",
    "\n",
    "import utils"
   ]
  },
  {
   "cell_type": "markdown",
   "metadata": {},
   "source": [
    "## a basic example\n",
    "\n",
    "make some histogram shit for `tensorboard`"
   ]
  },
  {
   "cell_type": "code",
   "execution_count": 2,
   "metadata": {},
   "outputs": [],
   "source": [
    "fw_dir = '/home/zlamberty/notebooks/deep_learning_world_tour/tensorflow_tutorial/histogram_example'"
   ]
  },
  {
   "cell_type": "code",
   "execution_count": 3,
   "metadata": {},
   "outputs": [],
   "source": [
    "k = tf.placeholder(tf.float32)"
   ]
  },
  {
   "cell_type": "code",
   "execution_count": 4,
   "metadata": {},
   "outputs": [],
   "source": [
    "# Make a normal distribution, with a shifting mean\n",
    "mean_moving_normal = tf.random_normal(shape=[1000], mean=(5 * k), stddev=1)\n",
    "\n",
    "# Record that distribution into a histogram summary\n",
    "tf.summary.histogram(\"normal/moving_mean\", mean_moving_normal)\n",
    "\n",
    "# Setup a session and summary writer\n",
    "sess = tf.Session()\n",
    "writer = tf.summary.FileWriter(fw_dir)\n",
    "\n",
    "summaries = tf.summary.merge_all()\n",
    "\n",
    "# Setup a loop and write the summaries to disk\n",
    "N = 400\n",
    "for step in range(N):\n",
    "    k_val = step / float(N)\n",
    "    summ = sess.run(summaries, feed_dict={k: k_val})\n",
    "    writer.add_summary(summ, global_step=step)"
   ]
  },
  {
   "cell_type": "markdown",
   "metadata": {},
   "source": [
    "after this, go navigate to `fw_dir` **on the local server** and run\n",
    "\n",
    "```\n",
    "CUDA_VISIBLE_DEVICE= tensorboard --logdir /path/to/histogram_example\n",
    "```"
   ]
  },
  {
   "cell_type": "markdown",
   "metadata": {},
   "source": [
    "## overlay mode\n",
    "\n",
    "click a button and the picture changes. you get it."
   ]
  },
  {
   "cell_type": "markdown",
   "metadata": {},
   "source": [
    "## multimodal distributions\n",
    "\n",
    "run the following and we'll have a new set of histograms:"
   ]
  },
  {
   "cell_type": "code",
   "execution_count": 5,
   "metadata": {},
   "outputs": [],
   "source": [
    "# Make a normal distribution, with a shifting mean\n",
    "mean_moving_normal = tf.random_normal(shape=[1000], mean=(5 * k), stddev=1)\n",
    "\n",
    "# Record that distribution into a histogram summary\n",
    "tf.summary.histogram(\"normal/moving_mean_bimodal\", mean_moving_normal)\n",
    "\n",
    "# Make a normal distribution with shrinking variance\n",
    "variance_shrinking_normal = tf.random_normal(shape=[1000], mean=0, stddev=1-(k))\n",
    "\n",
    "# Record that distribution too\n",
    "tf.summary.histogram(\"normal/shrinking_variance\", variance_shrinking_normal)\n",
    "\n",
    "# Let's combine both of those distributions into one dataset\n",
    "normal_combined = tf.concat([mean_moving_normal, variance_shrinking_normal], 0)\n",
    "\n",
    "# We add another histogram summary to record the combined distribution\n",
    "tf.summary.histogram(\"normal/bimodal\", normal_combined)\n",
    "\n",
    "summaries = tf.summary.merge_all()\n",
    "\n",
    "# Setup a session and summary writer\n",
    "sess = tf.Session()\n",
    "writer = tf.summary.FileWriter(fw_dir)\n",
    "\n",
    "# Setup a loop and write the summaries to disk\n",
    "N = 400\n",
    "for step in range(N):\n",
    "    k_val = step / float(N)\n",
    "    summ = sess.run(summaries, feed_dict={k: k_val})\n",
    "    writer.add_summary(summ, global_step=step)"
   ]
  },
  {
   "cell_type": "markdown",
   "metadata": {},
   "source": [
    "## some more distributions\n",
    "\n",
    "more do more do more"
   ]
  },
  {
   "cell_type": "code",
   "execution_count": 6,
   "metadata": {},
   "outputs": [],
   "source": [
    "# Make a normal distribution, with a shifting mean\n",
    "mean_moving_normal = tf.random_normal(shape=[1000], mean=(5*k), stddev=1)\n",
    "# Record that distribution into a histogram summary\n",
    "tf.summary.histogram(\"normal/moving_mean\", mean_moving_normal)\n",
    "\n",
    "# Make a normal distribution with shrinking variance\n",
    "variance_shrinking_normal = tf.random_normal(shape=[1000], mean=0, stddev=1-(k))\n",
    "# Record that distribution too\n",
    "tf.summary.histogram(\"normal/shrinking_variance\", variance_shrinking_normal)\n",
    "\n",
    "# Let's combine both of those distributions into one dataset\n",
    "normal_combined = tf.concat([mean_moving_normal, variance_shrinking_normal], 0)\n",
    "# We add another histogram summary to record the combined distribution\n",
    "tf.summary.histogram(\"normal/bimodal\", normal_combined)\n",
    "\n",
    "# Add a gamma distribution\n",
    "gamma = tf.random_gamma(shape=[1000], alpha=k)\n",
    "tf.summary.histogram(\"gamma\", gamma)\n",
    "\n",
    "# And a poisson distribution\n",
    "poisson = tf.random_poisson(shape=[1000], lam=k)\n",
    "tf.summary.histogram(\"poisson\", poisson)\n",
    "\n",
    "# And a uniform distribution\n",
    "uniform = tf.random_uniform(shape=[1000], maxval=k*10)\n",
    "tf.summary.histogram(\"uniform\", uniform)\n",
    "\n",
    "# Finally, combine everything together!\n",
    "all_distributions = [mean_moving_normal, variance_shrinking_normal,\n",
    "                     gamma, poisson, uniform]\n",
    "all_combined = tf.concat(all_distributions, 0)\n",
    "tf.summary.histogram(\"all_combined\", all_combined)\n",
    "\n",
    "summaries = tf.summary.merge_all()\n",
    "\n",
    "# Setup a session and summary writer\n",
    "sess = tf.Session()\n",
    "writer = tf.summary.FileWriter(fw_dir)\n",
    "\n",
    "# Setup a loop and write the summaries to disk\n",
    "N = 400\n",
    "for step in range(N):\n",
    "    k_val = step/float(N)\n",
    "    summ = sess.run(summaries, feed_dict={k: k_val})\n",
    "    writer.add_summary(summ, global_step=step)"
   ]
  },
  {
   "cell_type": "markdown",
   "metadata": {},
   "source": [
    "### gamma distribution\n",
    "\n",
    "code was run above; this is now a drop-down on the `histogram` page"
   ]
  },
  {
   "cell_type": "markdown",
   "metadata": {},
   "source": [
    "### uniform distribution\n",
    "\n",
    "code was run above; this is now a drop-down on the `histogram` page"
   ]
  },
  {
   "cell_type": "markdown",
   "metadata": {},
   "source": [
    "### poisson distribution\n",
    "\n",
    "code was run above; this is now a drop-down on the `histogram` page"
   ]
  },
  {
   "cell_type": "markdown",
   "metadata": {},
   "source": [
    "### all together now\n",
    "\n",
    "code was run above; this is now a drop-down on the `histogram` page"
   ]
  },
  {
   "cell_type": "markdown",
   "metadata": {},
   "source": [
    "# support\n",
    "\n",
    "you can request the `tensorflow` record periodic histogram snapshots of any numerically valued tensor by creating a summary `FileWriter` (e.g. `tf.summary.FileWriter`) and adding a `tf.summary.histogram` summary operation to the graph. once you've created `histogram` summaries, you can visualize them directly on the histogram tab of `tensorboard`"
   ]
  },
  {
   "cell_type": "code",
   "execution_count": null,
   "metadata": {},
   "outputs": [],
   "source": []
  }
 ],
 "metadata": {
  "kernelspec": {
   "display_name": "Python 3",
   "language": "python",
   "name": "python3"
  },
  "language_info": {
   "codemirror_mode": {
    "name": "ipython",
    "version": 3
   },
   "file_extension": ".py",
   "mimetype": "text/x-python",
   "name": "python",
   "nbconvert_exporter": "python",
   "pygments_lexer": "ipython3",
   "version": "3.5.2"
  }
 },
 "nbformat": 4,
 "nbformat_minor": 2
}
