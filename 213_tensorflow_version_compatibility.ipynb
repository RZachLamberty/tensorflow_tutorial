{
 "cells": [
  {
   "cell_type": "markdown",
   "metadata": {},
   "source": [
    "# `tensorflow` version compatibility\n",
    "\n",
    "following along [here](https://www.tensorflow.org/programmers_guide/version_compat)"
   ]
  },
  {
   "cell_type": "code",
   "execution_count": 1,
   "metadata": {},
   "outputs": [
    {
     "name": "stderr",
     "output_type": "stream",
     "text": [
      "/usr/local/lib/python3.5/dist-packages/h5py/__init__.py:36: FutureWarning: Conversion of the second argument of issubdtype from `float` to `np.floating` is deprecated. In future, it will be treated as `np.float64 == np.dtype(float).type`.\n",
      "  from ._conv import register_converters as _register_converters\n"
     ]
    }
   ],
   "source": [
    "import tensorflow as tf\n",
    "\n",
    "import utils"
   ]
  },
  {
   "cell_type": "markdown",
   "metadata": {},
   "source": [
    "## semantic versioning 2.0\n",
    "\n",
    "`MAJOR.MINOR.PATCH`\n",
    "\n",
    "+ changes in `MAJOR` may break backwards compatability for everything (code, data, checkpoings, graphs)\n",
    "+ changes in `MINOR` may break backwards compatability for anything *not in the public `api`*. **will not** break compatibility with public `api`\n",
    "+ changein in `PATCH` should be backwards compatable"
   ]
  },
  {
   "cell_type": "markdown",
   "metadata": {},
   "source": [
    "## what is covered\n",
    "\n",
    "+ public `api`\n",
    "    + all documented `python` functions and classes in `tensorflow`\n",
    "        + **except**\n",
    "            + `tf.contrib`\n",
    "            + private functions of classes (`_***` names)\n",
    "    + the `C` `api`\n",
    "    + some protocol buffer files\n",
    "        + `attr_value`\n",
    "        + `config`\n",
    "        + `event`\n",
    "        + `graph`\n",
    "        + `op_def`\n",
    "        + `reader_base`\n",
    "        + `summary`\n",
    "        + `tensor`\n",
    "        + `tensor_shape`\n",
    "        + `types`"
   ]
  },
  {
   "cell_type": "markdown",
   "metadata": {},
   "source": [
    "## what is not covered\n",
    "\n",
    "+ `tf.contrib`\n",
    "+ any language beyond `C` and `python` (e.g. `c++`, `java`, `go`)\n",
    "+ implementation of composite ops (i.e. interface is BC, implementation is not)\n",
    "+ exact floating point values\n",
    "+ random numbers\n",
    "+ bugs\n",
    "+ error message text\n",
    "+ error message type *if* it is not in the documentation\n",
    "\n",
    "version skew in distributed environments is neither recommended nor supported"
   ]
  },
  {
   "cell_type": "markdown",
   "metadata": {},
   "source": [
    "## compatibility of graphs and checkpoints\n",
    "\n",
    "+ serialized graphs / checkpoints are done through the `GraphDef` protocol buffer.\n",
    "    + they try hard not to fuck this up or change things too often\n",
    "    + `GraphDef` pbs are versioned separately from `tensorflow`, so that is the fundamental topic of discussion\n",
    "+ `tensorflow` versions each support a *range* of `GraphDef` versions\n",
    "    + `PATCH` changes will not change this range\n",
    "    + `MINOR` changes will only ever add to this range\n",
    "    + `MAJOR` changes may possibly drop support for the oldest `GraphDef` versions"
   ]
  },
  {
   "cell_type": "markdown",
   "metadata": {},
   "source": [
    "## graph and checkpoint compatibility when extending tensorflow\n",
    "\n",
    "discussion of changes to the `GraphDef` version"
   ]
  },
  {
   "cell_type": "markdown",
   "metadata": {},
   "source": [
    "### backward and partial forward compatibility\n",
    "\n",
    "+ bc allows for loading of old checkpoints\n",
    "+ (p)fc allows for producers of graphs to pass them to consumers at previous versions via `PATCH` releases in old versions"
   ]
  },
  {
   "cell_type": "markdown",
   "metadata": {},
   "source": [
    "### independent data version schemes\n",
    "\n",
    "graphs and checkpoints have different formats and therefore each has their own version number. check both of them (and `tensorflow`'s versions) out [on github](https://github.com/tensorflow/tensorflow/blob/master/tensorflow/core/public/version.h)"
   ]
  },
  {
   "cell_type": "markdown",
   "metadata": {},
   "source": [
    "### data, producers, and consumers\n",
    "\n",
    "data objects are classified into two categories: *producer* or *consumer*. each type has its own version number *and also* the minimum version of the other with which it is compatible.\n",
    "\n",
    "this is all defined in [the `VersionDef` protocol buffer](https://github.com/tensorflow/tensorflow/blob/master/tensorflow/core/framework/versions.proto)"
   ]
  },
  {
   "cell_type": "markdown",
   "metadata": {},
   "source": [
    "### add a new attribute with default to an existing op\n",
    "\n",
    "to get forward compatability of your graph checkpoints, set `strip_default_attrs=True` when calling `add_meta_graph*` or `Estimator.export_savedmodel`"
   ]
  },
  {
   "cell_type": "markdown",
   "metadata": {},
   "source": [
    "### evolving graphdef versions\n",
    "\n",
    "advanced topic; let's skip for now and revisit if we ever create our own tf operation"
   ]
  },
  {
   "cell_type": "markdown",
   "metadata": {},
   "source": [
    "# summary\n",
    "\n",
    "the versioning scheme works basically how you expect. `MAJOR.MINOR.PATCH` with bc mostly protected in `MINOR.PATCH`. checkpoints and restores should work between `MAJOR` releases, with support being dropped at (and only at) `MAJOR` releases."
   ]
  },
  {
   "cell_type": "code",
   "execution_count": null,
   "metadata": {},
   "outputs": [],
   "source": []
  }
 ],
 "metadata": {
  "kernelspec": {
   "display_name": "Python 3",
   "language": "python",
   "name": "python3"
  },
  "language_info": {
   "codemirror_mode": {
    "name": "ipython",
    "version": 3
   },
   "file_extension": ".py",
   "mimetype": "text/x-python",
   "name": "python",
   "nbconvert_exporter": "python",
   "pygments_lexer": "ipython3",
   "version": "3.5.2"
  }
 },
 "nbformat": 4,
 "nbformat_minor": 2
}
